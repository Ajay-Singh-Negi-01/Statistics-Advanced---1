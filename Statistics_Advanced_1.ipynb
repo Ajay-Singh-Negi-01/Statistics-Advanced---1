{
  "nbformat": 4,
  "nbformat_minor": 0,
  "metadata": {
    "colab": {
      "provenance": []
    },
    "kernelspec": {
      "name": "python3",
      "display_name": "Python 3"
    },
    "language_info": {
      "name": "python"
    }
  },
  "cells": [
    {
      "cell_type": "markdown",
      "source": [
        "#Statistics Advanced - 1            \n",
        "\n",
        "1. What is a random variable in probability theory?         \n",
        "  - In Probability theory, a random variable is a variable whose possible values are numerical outcomes of a random experiment.     \n",
        "  It assigns a numerical value to each event in a sample space.    \n",
        "  . If the set of possible values is conutable (like 0,1,2,3...) the variable is called a Discrete Random Variable.     \n",
        "  Example : Tossing a coin 3 times and couting the number of heads (values = 0,1,2,3).           \n",
        "  . If the set of possible values in uncountable (like any real number in an interval), it is called a Continuous Random Variable.      \n",
        "  Example : The exact height of student in a class (values can be 150.2cm , 151.8 cm etc).       \n",
        "  Importance:       \n",
        "  Random variable allow us to apply mathematical tools (like probability distributions, expectation, variance) to real-world random experiments, makigh analysis and prediction easier.     "
      ],
      "metadata": {
        "id": "YMhasRLc_RFS"
      }
    },
    {
      "cell_type": "markdown",
      "source": [
        "2. What are the types of random variables?        \n",
        "  - Random variables are mainly of two types :      \n",
        "  Discrete Random Variable :       \n",
        "  . Takes countable values (finite or infinite).     \n",
        "  . Example : Number of heads in 5 coin tosses - values can be {0,1,2,3,4,5}.       \n",
        "  . Probability distribution is given by a Probability Mass Function(PMF).      \n",
        "  Continuous Random Variable:       \n",
        "  . Takes uncountable values(infinite, within an interval).     \n",
        "  . Example : The time taken to complete a task (can be 12.3 sec, 12.35 sec etc).      \n",
        "  . Probability distribution is given by a Probability Density Function (PDF).     \n",
        "  Key Difference :        \n",
        "  . Discrete - counts(how many).     \n",
        "  . Continuous - measurments (how much).     \n",
        "  "
      ],
      "metadata": {
        "id": "aAOAJRbjKSjI"
      }
    },
    {
      "cell_type": "markdown",
      "source": [
        "3. Explain the difference between discrete and continuous distributions.        \n",
        "  -In porbability theory, random variables follow different types of probability distributions depending on whether they are discrete or continuous.       \n",
        "  Discrete Distribution:        \n",
        "  . Applies to discrete random variables that take countable values.       \n",
        "  . Probability is described using a Probability Mass Function(PMF).      \n",
        "  . The probability of each possible outcome is non-zero, and the sum of all probabilityes equals 1.        \n",
        "  Examples :      \n",
        "  . Binomial Distribution (number of heads in coin tosses).        \n",
        "  . Poisson Distribution (number of customer arrivals in an hour).      \n",
        "  Continuous Distribution :      \n",
        "  . Applies to continuous random variables that take uncountalbe values over an interval.         \n",
        "  . Probability is described using a Probability Density Function (PDF).      \n",
        "  The Probability of any single point is 0; probabilities are calculated over intervals (using integration).       \n",
        "  Examples :      \n",
        "  . Normal Distribution (heights of students).      \n",
        "  Exponential Distribution (time between arrivals of buses).       \n",
        "  "
      ],
      "metadata": {
        "id": "BmbzZYqiN2Qf"
      }
    },
    {
      "cell_type": "markdown",
      "source": [
        "4. What is a binomial distribution, and how is it used in probability?        \n",
        "  - The Binomial Distribution is a type of discrete probability distribution that describes the number of successes in a fixed number of independent Bernoulli trails (experiments with two possible outcomes : success of failure).     \n",
        "  Key Characteristics :       \n",
        "  . The experiment consists of n independent trials.     \n",
        "  . Each trail has only two outcomes : success(p) or failure (q = 1 -p).      \n",
        "  . The probability of success (p) remains the same for every trail.      \n",
        "  . The random variable X = number of successes in n trails.        \n",
        "  Probability Formula (PMF):      \n",
        "  P(X=k)=(k/n​)pk(1−p)n−k           \n",
        "  Where :      \n",
        "  n = number of trails      \n",
        "  k = number of successes      \n",
        "  p = probability of success     \n",
        "  q = 1-p = probability of failure        \n",
        "  (n/k)=n!/k!(n-k)!        \n",
        "  Example of Use :        \n",
        "  . Tossing a coin 10 times and finding the probability of getting exactly 6 heads.       \n",
        "  . Checking the probability of a machine producing 3 defective items in 20 trails.      \n",
        "  . Predicting the number of customers who will purchase a product if each has a 30% chance.     \n",
        "  The binomial distribution is widely used in probability to model yes/no type experiments like coin tosses, pass/fail tests, success/failure in marketing campaigns, or defect/no-defect in quality control.       \n",
        "\n"
      ],
      "metadata": {
        "id": "hKItkKhrQ0V0"
      }
    },
    {
      "cell_type": "markdown",
      "source": [
        "5. What is the standard normal distribution, and why is it important?        \n",
        "  - The Standard Normal Distribution is a special case of the normal distribution where the mean is 0 and the standard deviation is 1.      \n",
        "  . It is represented as N(0,1).        \n",
        "  . The variable that follows this distribution is called the z-score.     \n",
        "  . Any normal random variable\n",
        "𝑋 ∼ 𝑁 ( 𝜇,𝜎2) can be converted into a standard normal variable 𝑍 using the transformation:       \n",
        "𝑍=𝑋−𝜇/𝜎         \n",
        "Where:      \n",
        "𝑋 = original value       \n",
        "𝜇 = mean     \n",
        "𝜎 = standard deviation      \n",
        "Why it is Important :      \n",
        "Simplifies calculations : Probabilities and critical values are tabulated for the standard normal distribution, making statistical analysis easier.      \n",
        "Basis of hypothesis testing : Many statistical tests (z-test, t-test apporximations) use the standard normal dstribution.       \n",
        "Comparison across datasets : Convarting data to z-scores allows comparison between different datasets with different units or scales.     \n",
        "Widely applicable : Central Limit Theorem ensures that many real-world datasets approach normal distribution, and using the standard form makes probability estimation universal.        \n",
        "Example :      \n",
        "If exam scores are normally distributed with mean = 70 and SD = 10, a student scoring 85 has a :        \n",
        "Z = 85-70/10 = 1.5        \n",
        "This means the student is 1.5 standard deviations above the mean, and we can use the standard normal table to find their percentile.      \n",
        "\n"
      ],
      "metadata": {
        "id": "_eHvrGS9V0Fd"
      }
    },
    {
      "cell_type": "markdown",
      "source": [
        "6. What is the Central Limit Theorem (CLT), and why is it critical in statistics?        \n",
        "  - The Central Limit Theorem states that when we take a large number of random samples from any population (with a finite mean and variance), the distribution of the sample means will approximate a normal distribution, regardless of the original population's distribution.       \n",
        "  Mathematically :     \n",
        "  If X1,X2,X3,.......Xn are independent random variables with mean μ and variance 𝜎2, then the sample mean      \n",
        "  𝑋ˉ=1/𝑛∑𝑖=1𝑛𝑋𝑖          \n",
        "  follows approximately a normal distribution with mean 𝜇 and variance 𝜎2/𝑛, as 𝑛→∞.         \n",
        "  Why is CLT Critical ?:            \n",
        "  . Foundation for inferential Statistics : It allows us to make predictions and draw conclusions about a population using sample data.      \n",
        "  . Justifies Use of Normal Distribution : Many statistical methods (confidence intervals hypothesis testing, regression) assume normality. CLT explains why this assumption is valid in practice.      \n",
        "  . Works even for Non-Normal Populations : Even if the poputation is skewed or not normal, the sample mean will be normal distributed for large enough sample sizes.        \n",
        "  Example : Suppose we are measuring the daily sales of a store. The distribution of sales may be skewed, but if we take repeated samples of size n = 50, the average sales of those samples will follow an approximately normal distribution. This makes it possible to apply normal-based methods (like confidence intervals) even though the raw data is not normal.        "
      ],
      "metadata": {
        "id": "nIENDd0Sq9eJ"
      }
    },
    {
      "cell_type": "markdown",
      "source": [
        "7.  What is the significance of confidence intervals in statistical analysis?       \n",
        "  - Confidence Intervals(CI):     \n",
        "  A confidence interval is a range of values, derived from sample data, that is likely to contain the true poputlation parameter (sach as the mean or proportion) with a certain level of confidence.      \n",
        "  For example, a 95% confidance interval means that if we were to take many samples and compute the interval each time, about 95% of those intervals would contain the true population parameter.      \n",
        "  Significance of Confidence Intervals is Statistical Analysis:       \n",
        "  . Provides an Estimated Range Instead of a Single Value : Unlike point estimates (like sample mean), a confidence interval gives a range, showing the possible variation of the estimate.      \n",
        "  . Measures Reliability of Estimates : Wider intervals indicate more uncertainty, while narrower intevals indicate more precision in the estimate.       \n",
        "  . Helps in Decision Making : Confidence intervals allow researchers and businesses to make informed decisions by understanding the likely range of outcomes.     \n",
        "  . Connection with Hypothesis Testing : If a hypothesized value (population mean = 50) falls outside the confidence interval, we can reject that hypothesis at the given confidence level.       \n",
        "  Example :       \n",
        "  Suppose the average daily sales from a sample of 100 customers is $500 with a 95% confident that the true average daily sales off all customers lies between $480 and $520.     "
      ],
      "metadata": {
        "id": "Fzv59yPU588W"
      }
    },
    {
      "cell_type": "markdown",
      "source": [
        "8. What is the concept of expected value in a probability distribution?      \n",
        "  - Expected Value in Probability Distribution :       \n",
        "  The expected value (EV) is the average or mean value of a random variable that you would expect if an experiment were repeated many times.      \n",
        "  It represents the long-term average outcome of probability distribution.     \n",
        "  Formula :     \n",
        "  For a discrete random variable X with possible values x1,x2,x3,.......,xn and probabilities p1,p2,......,pn            \n",
        "  Why It's Important :     \n",
        "  . Gives the \"average\" outcome of a random variable in the long run.     \n",
        "  . Used in decision-making (economics, insurance, gambling, risk analysis).     \n",
        "  . Forms the basis of variance and standard deviation calcutaltion.    \n",
        "  Example (Discrete Case):     \n",
        "  A fair six-sided die has outcomes {1,2,3,4,5,6}, each with probability 1/6.     \n",
        "  E(X) = 1+2+3+4+5+6/6 = 3.5    \n",
        "  So, the expected value of rolling die is 3.5, even though you'll never actually roll a 3.5 - it's the average outcome over many rolls.      \n",
        "  "
      ],
      "metadata": {
        "id": "_MErefB7_RIZ"
      }
    },
    {
      "cell_type": "markdown",
      "source": [
        "9. Write a Python program to generate 1000 random numbers from a normal\n",
        "distribution with mean = 50 and standard deviation = 5. Compute its mean and standard\n",
        "deviation using NumPy, and draw a histogram to visualize the distribution.        "
      ],
      "metadata": {
        "id": "fxdxJnT0LQl9"
      }
    },
    {
      "cell_type": "code",
      "execution_count": 1,
      "metadata": {
        "id": "iDIbMv9N_HI7",
        "colab": {
          "base_uri": "https://localhost:8080/",
          "height": 507
        },
        "outputId": "d907fdd3-c6cc-4a20-e1e2-33c9b932916c"
      },
      "outputs": [
        {
          "output_type": "stream",
          "name": "stdout",
          "text": [
            "Computed Mean: 49.9941898531875\n",
            "Computed standard Deviation: 4.895301307059409\n"
          ]
        },
        {
          "output_type": "display_data",
          "data": {
            "text/plain": [
              "<Figure size 640x480 with 1 Axes>"
            ],
            "image/png": "[encoded data removed]"
          },
          "metadata": {}
        }
      ],
      "source": [
        "import numpy as np\n",
        "import matplotlib.pyplot as plt\n",
        "\n",
        "#Generate 1000 random numbers from normal distribution\n",
        "data=np.random.normal(loc = 50, scale = 5, size = 1000)\n",
        "\n",
        "#Compute mean and standard deviation\n",
        "\n",
        "mean_val = np.mean(data)\n",
        "std_val = np.std(data)\n",
        "\n",
        "print(\"Computed Mean:\", mean_val)\n",
        "print(\"Computed standard Deviation:\", std_val)\n",
        "\n",
        "#Plot histogram\n",
        "\n",
        "plt.hist(data, bins = 30, edgecolor = \"black\", alpha = 0.7)\n",
        "plt.title (\"Histogram of Normally Distributed Data (mean = 50, std =5)\")\n",
        "plt.xlabel(\"Value\")\n",
        "plt.ylabel(\"Frequency\")\n",
        "plt.grid(True, linestyle=\"--\",alpha = 0.6)\n",
        "plt.show()"
      ]
    },
    {
      "cell_type": "markdown",
      "source": [
        "10. You are working as a data analyst for a retail company. The company has\n",
        "collected daily sales data for 2 years and wants you to identify the overall sales trend.          \n",
        "daily_sales = [220, 245, 210, 265, 230, 250, 260, 275, 240, 255,\n",
        "235, 260, 245, 250, 225, 270, 265, 255, 250, 260]         \n",
        "● Explain how you would apply the Central Limit Theorem to estimate the average sales\n",
        "with a 95% confidence interval.        \n",
        "● Write the Python code to compute the mean sales and its confidence interval.          \n",
        "  - Explanation(Central Limit Theorem + Confidence interval) :      \n",
        "  . The Central Limit Theorem (CLT) states that if we take repeated random samples from a poputaltion, the distribution of the sample means will approximate a normal distribution (as long as the sample size is reasonably large).      \n",
        "  . Here, we only have one dataset (daily_sales), but we can still apply the CLT assumption:     \n",
        "  The sample mean is an unbiased estimator of the population mean.    \n",
        "  The sample standard deviation(s) is used to estimate variability.      \n",
        "  The 95% confidence interval(CI)for the mean is given by:          \n",
        "  CI=xˉ±zα/2⋅ns        \n",
        "  where:      \n",
        "  𝑥ˉ = sample mean      \n",
        "  𝑠 = sample standard deviation      \n",
        "  𝑛 = sample size     \n",
        "  𝑧0.025 = 1.96 (for 95% CI, standard normal distribution)      \n",
        "  This means we are 95% confident that the true average daily sales lie between 239.14 and 256.36."
      ],
      "metadata": {
        "id": "T9mD-NhrSnsM"
      }
    },
    {
      "cell_type": "code",
      "source": [
        "import numpy as np\n",
        "import scipy.stats as stats\n",
        "\n",
        "# Daily sales data\n",
        "daily_sales = [220, 245, 210, 265, 230, 250, 260, 275, 240, 255,\n",
        "               235, 260, 245, 250, 225, 270, 265, 255, 250, 260]\n",
        "\n",
        "# Convert to numpy array\n",
        "data = np.array(daily_sales)\n",
        "\n",
        "# Compute mean and standard deviation\n",
        "mean_sales = np.mean(data)\n",
        "std_sales = np.std(data, ddof=1)  # sample std deviation\n",
        "n = len(data)\n",
        "\n",
        "# 95% confidence interval using CLT\n",
        "confidence = 0.95\n",
        "alpha = 1 - confidence\n",
        "z_score = stats.norm.ppf(1 - alpha/2)  # 1.96 for 95% CI\n",
        "margin_of_error = z_score * (std_sales / np.sqrt(n))\n",
        "ci_lower = mean_sales - margin_of_error\n",
        "ci_upper = mean_sales + margin_of_error\n",
        "\n",
        "print(\"Sample Mean Sales:\", mean_sales)\n",
        "print(\"Sample Standard Deviation:\", std_sales)\n",
        "print(f\"95% Confidence Interval: ({ci_lower:.2f}, {ci_upper:.2f})\")\n"
      ],
      "metadata": {
        "colab": {
          "base_uri": "https://localhost:8080/"
        },
        "id": "NcPjr2pURsED",
        "outputId": "0ec85181-1170-4819-e3e6-57d857517e91"
      },
      "execution_count": 6,
      "outputs": [
        {
          "output_type": "stream",
          "name": "stdout",
          "text": [
            "Sample Mean Sales: 248.25\n",
            "Sample Standard Deviation: 17.26534405284638\n",
            "95% Confidence Interval: (240.68, 255.82)\n"
          ]
        }
      ]
    }
  ]
}